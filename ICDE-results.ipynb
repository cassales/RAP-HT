{
 "cells": [
  {
   "cell_type": "code",
   "execution_count": null,
   "id": "74080c5f-0c7c-4f59-be03-7e5ee39e6a75",
   "metadata": {},
   "outputs": [],
   "source": [
    "import pandas as pd\n",
    "import os\n",
    "from autorank import autorank, plot_stats, create_report, latex_table\n",
    "pd.set_option('display.max_rows', 400)\n",
    "pd.set_option('display.max_columns', 25)\n",
    "import matplotlib.pyplot as plt\n",
    "import warnings\n",
    "warnings.simplefilter(action='ignore', category=pd.errors.PerformanceWarning)"
   ]
  },
  {
   "cell_type": "code",
   "execution_count": null,
   "id": "fd91b7d0-1f99-47a2-a891-3b2b69565d63",
   "metadata": {},
   "outputs": [],
   "source": [
    "def parse_gct(filename, out_csv):\n",
    "    # print(filename)\n",
    "    file = filename.split('/')[-1]\n",
    "    STRact = 1 if 'STR' in filename else 0\n",
    "    prunemethod = \"\"\n",
    "    if 'LRU' in file:\n",
    "        if \"Oza\" in file:\n",
    "            prunemethod = \"Oza\"\n",
    "        if STRact:\n",
    "            prunemethod += 'LRUSTR'\n",
    "        else:\n",
    "            prunemethod += 'LRU'\n",
    "    elif 'LFU' in file:\n",
    "        if STRact:\n",
    "            prunemethod += 'LFUSTR'\n",
    "        else:\n",
    "            prunemethod += 'LFU'\n",
    "    else:\n",
    "        prunemethod = file.split('-')[0]\n",
    "    if 'g50' not in filename:\n",
    "        grace_period = 200\n",
    "    else:\n",
    "        grace_period = 50\n",
    "        prunemethod += 'g'\n",
    "    if 'c005' not in filename:\n",
    "        split_confidence = 0.0000001\n",
    "    else:\n",
    "        split_confidence = 0.05\n",
    "        prunemethod += 'c'\n",
    "    if 't01' not in filename:\n",
    "        tie_threshold = 0.05\n",
    "    else:\n",
    "        tie_threshold = 0.1\n",
    "        prunemethod += 't'\n",
    "    if 'MC' in filename:\n",
    "        leafAlg='MC'\n",
    "    else:\n",
    "        leafAlg='NBA'\n",
    "\n",
    "    dataset = '.'.join(file.split('.')[0:-1]).split('-')[-1]\n",
    "    if dataset == 'MC' or 'iter' in dataset:\n",
    "        dataset = '.'.join(file.split('.')[0:-1]).split('-')[-2]\n",
    "    \n",
    "    df = pd.read_csv(filename)\n",
    "    wanted = ['evaluation time (cpu seconds)', 'evaluationTime', 'classifications correct (percent)',\n",
    "             'Precision (percent)', 'Recall (percent)', 'model serialized size (bytes)',\n",
    "              'tree size (nodes)', 'tree size (leaves)', 'tree depth', 'INTERVAL', \n",
    "              'THRESHOLD (depth 0)', 'PRUNED', 'PRUNE-SPLIT', 'PRUNE-LEARN', 'AVG-NODESIZE', 'MAX-NODESIZE']\n",
    "    for i in range(len(wanted)):\n",
    "        w = wanted[i]\n",
    "        if w not in df.columns:\n",
    "            if w == 'AVG-NODESIZE' or w == 'MAX-NODESIZE':\n",
    "                wanted[i] = f'[avg] {w}'\n",
    "                if wanted[i] not in df.columns:\n",
    "                    df[wanted[i]] = 0\n",
    "            else:\n",
    "                df[w] = 0\n",
    "    plist = [dataset, prunemethod, leafAlg] + list(df[wanted].tail(1).values.flatten().tolist())\n",
    "    pstr = ''\n",
    "    for i in plist:\n",
    "        pstr += f\"{i},\"\n",
    "    out_csv.write(f\"{pstr[:-1]}\\n\")\n"
   ]
  },
  {
   "cell_type": "code",
   "execution_count": null,
   "id": "87508595-dbb4-45c3-8e4a-27135bab1828",
   "metadata": {},
   "outputs": [],
   "source": [
    "def print_res_gct(RESDIR):\n",
    "    out_csv = 'output.csv'\n",
    "    with open(out_csv,\"w+\") as of:\n",
    "        of.write('Dataset,prune_method,leafAlg,time,evaluationTime,acc,prec,recall,model_size_(bytes),tree_nodes,tree_leaves,tree_depth,interval,pruning_threshold,total_pruned,split_pruned,learn_pruned,avg_size,max_size\\n')\n",
    "        for f in os.listdir(RESDIR):\n",
    "            if 'term' not in f:\n",
    "                parse_gct(f\"{RESDIR}/{f}\", of)\n",
    "    df = pd.read_csv('output.csv')\n",
    "    print(\"lines:\",len(df))\n",
    "    df = df [['Dataset','prune_method','leafAlg','interval','pruning_threshold','time','evaluationTime','acc','prec','recall','tree_depth','total_pruned','split_pruned','learn_pruned','avg_size','max_size']]\n",
    "    df = df.sort_values(by=['Dataset','prune_method','interval','pruning_threshold'])\n",
    "    return df"
   ]
  },
  {
   "cell_type": "code",
   "execution_count": null,
   "id": "44acf662-fe95-4454-a102-53acdf891d51",
   "metadata": {
    "tags": []
   },
   "outputs": [],
   "source": [
    "RESDIR='ICDE/ICDE-results-synthethic/'\n",
    "df = print_res_gct(RESDIR)"
   ]
  },
  {
   "cell_type": "code",
   "execution_count": null,
   "id": "09153ad3-fa16-4c44-a0e5-d69970319c3c",
   "metadata": {},
   "outputs": [],
   "source": [
    "print(df.Dataset.unique(), len(df.Dataset.unique()))"
   ]
  },
  {
   "cell_type": "code",
   "execution_count": null,
   "id": "662159bc",
   "metadata": {},
   "outputs": [],
   "source": [
    "df.prune_method = df.prune_method.str.replace(\"HRAPTr\", \"RAP-HT\")\n",
    "df.prune_method.unique()"
   ]
  },
  {
   "cell_type": "code",
   "execution_count": null,
   "id": "acf87ba3-6df4-4c37-bd9f-8661bc5c937e",
   "metadata": {},
   "outputs": [],
   "source": [
    "drift_data = ['AGR_a', 'AGR_g', 'HPlane_f', 'HPlane_m', 'HPlane_s', 'LED_a', 'LED_g', 'RBF_f', 'RBF_m', 'RBF_s', 'Wform_d5n']\n",
    "non_drift_data = ['AGR', 'HPlane', 'LED', 'RBF', 'RTG', 'Wave']\n",
    "real_data = ['GMSC', 'airlines', 'covtypeNorm', 'elecNormNew', 'nomao']"
   ]
  },
  {
   "cell_type": "code",
   "execution_count": null,
   "id": "620b0b01-8c01-4a48-bc60-60f4e4d06759",
   "metadata": {},
   "outputs": [],
   "source": [
    "for ds in df.Dataset.unique():\n",
    "    adf = df[df.Dataset == ds]\n",
    "    # print()\n",
    "    print(f\"{ds:10} {adf.acc.min():0.6f} {adf.acc.max():0.6f}   - {len(df[df.interval == 2000])}   {len(df[df.interval == 10000])}  {len(df[df.interval == 500])}\")\n"
   ]
  },
  {
   "cell_type": "code",
   "execution_count": null,
   "id": "65deca78-6a96-4db3-8b42-f43ddd02a7f1",
   "metadata": {},
   "outputs": [],
   "source": [
    "megadf = df[(df.prune_method == 'RAP-HT') & (df.leafAlg == 'NBA')].groupby(by=['Dataset','prune_method','interval','pruning_threshold'], as_index=False)\n",
    "allHR = megadf[['time','acc','avg_size','max_size','total_pruned']].agg(['mean','std'])\n",
    "allHR"
   ]
  },
  {
   "cell_type": "code",
   "execution_count": null,
   "id": "47401977",
   "metadata": {},
   "outputs": [],
   "source": [
    "allHR.reset_index(inplace=True)\n",
    "allHR['new_id'] =  allHR['prune_method'] + '-' + allHR['pruning_threshold'].astype(str) + '-' + allHR['interval'].astype(str)\n",
    "allHR.set_index('new_id', drop=False, inplace=True)\n",
    "allHR.drop(['prune_method', 'interval','pruning_threshold'], axis=1, inplace=True)\n",
    "\n",
    "print('total pruned')\n",
    "pivoted = allHR.pivot(index='Dataset', columns='new_id')[('total_pruned','mean')]\n",
    "display(pivoted)\n",
    "\n",
    "print('runtime')\n",
    "pivoted = allHR.pivot(index='Dataset', columns='new_id')[('time','mean')]\n",
    "display(pivoted)\n",
    "display(pivoted.describe())"
   ]
  },
  {
   "cell_type": "markdown",
   "id": "99c65b91-6897-419a-af5f-b3c0d2464317",
   "metadata": {},
   "source": [
    "column = group\n",
    "row = observation"
   ]
  },
  {
   "cell_type": "code",
   "execution_count": null,
   "id": "eed1606a-b611-4a36-b794-d139cdd48d7b",
   "metadata": {},
   "outputs": [],
   "source": [
    "df.prune_method.unique()"
   ]
  },
  {
   "cell_type": "code",
   "execution_count": null,
   "id": "978417f0",
   "metadata": {},
   "outputs": [],
   "source": [
    "df.pruning_threshold = df.pruning_threshold.astype(int)\n",
    "df.pruning_threshold.unique()"
   ]
  },
  {
   "cell_type": "code",
   "execution_count": null,
   "id": "cda9bd92",
   "metadata": {},
   "outputs": [],
   "source": [
    "df.interval = df.interval.astype(int)\n",
    "df.interval = df.interval.astype(str)\n",
    "df.interval = df.interval.str.replace('10000','10k')\n",
    "df.interval = df.interval.str.replace('000','k')\n",
    "df.interval.unique()"
   ]
  },
  {
   "cell_type": "markdown",
   "id": "445696bb-291d-4bc8-9e3a-9ff097bd6dda",
   "metadata": {},
   "source": [
    "# getting best RAP-HT configuration based on ranking"
   ]
  },
  {
   "cell_type": "code",
   "execution_count": null,
   "id": "ce761c6b",
   "metadata": {},
   "outputs": [],
   "source": [
    "def create_report_measure(df, measure, using_autorank=True, ascending=True, display_measure_tables=False, display_ranks_tables=False, display_static=False, display_drift=False, filename=None):\n",
    "    print(\"reports for measure:\", measure)\n",
    "    resultdf=pd.DataFrame()\n",
    "    autorankdf=pd.DataFrame()\n",
    "    ranksdf=pd.DataFrame()\n",
    "    for ds in df.Dataset.unique():\n",
    "        adf = df[(df.Dataset == ds) & (df.leafAlg == 'NBA')].copy()\n",
    "        rdf = adf.groupby(by=['prune_method','pruning_threshold','interval'],as_index=False)[['time', 'evaluationTime', 'acc','avg_size', 'max_size', 'total_pruned']].agg(['mean','std'])\n",
    "        ardf = adf.groupby(by=['prune_method','pruning_threshold','interval'],as_index=False)[['time', 'evaluationTime', 'acc','avg_size', 'max_size', 'total_pruned']].mean()\n",
    "        ranksrdf = ardf.copy()\n",
    "        ranksrdf['ranks'] = ranksrdf[measure].rank(ascending=ascending, method='first')\n",
    "        rdf = rdf.reset_index()\n",
    "        ardf = ardf.reset_index()\n",
    "        ranksrdf.reset_index()\n",
    "        rdf['new_id'] = rdf['prune_method'] + '-' + rdf['pruning_threshold'].astype(str) + '-' + rdf['interval'].astype(str)\n",
    "        ardf['new_id'] = ardf['prune_method'] + '-' + ardf['pruning_threshold'].astype(str) + '-' + ardf['interval'].astype(str)\n",
    "        ranksrdf['new_id'] = ranksrdf['prune_method'] + '-' + ranksrdf['pruning_threshold'].astype(str) + '-' + ranksrdf['interval'].astype(str)\n",
    "        rdf['Dataset'] = ds\n",
    "        ardf['Dataset'] = ds\n",
    "        ranksrdf['Dataset'] = ds\n",
    "        rdf = rdf.set_index('new_id', drop=False)\n",
    "        ardf = ardf.set_index('new_id', drop=False)\n",
    "        ranksrdf = ranksrdf.set_index('new_id', drop=False)\n",
    "        drdf = rdf.pivot(index='new_id', columns='Dataset')[(measure,'mean')]\n",
    "        dardf = ardf.pivot(index='new_id', columns='Dataset')[measure]\n",
    "        dranksrdf = ranksrdf.pivot(index='new_id', columns='Dataset')['ranks']\n",
    "        resultdf = pd.concat([resultdf,drdf], axis=1)\n",
    "        autorankdf = pd.concat([autorankdf,dardf], axis=1)\n",
    "        ranksdf = pd.concat([ranksdf, dranksrdf], axis=1)\n",
    "        \n",
    "        \n",
    "    if display_measure_tables:\n",
    "        full = resultdf.transpose()\n",
    "        static = resultdf[['AGR', 'HPlane', 'LED', 'RBF', 'RTG', 'Wave']].sort_index(level=1, axis=1).transpose()\n",
    "        drift = resultdf[['AGR_a', 'AGR_g' , 'HPlane_f', 'HPlane_m', 'HPlane_s', 'LED_a', 'LED_g', 'RBF_f', 'RBF_m', 'RBF_s', 'Wform_d5n']].sort_index(level=1, axis=1).transpose()\n",
    "        print(\"full\")\n",
    "        display(full)\n",
    "        display(full.describe())\n",
    "        if display_static:\n",
    "            print('static')\n",
    "            display(static)\n",
    "            display(static.describe())\n",
    "        if display_drift:\n",
    "            print('drift')\n",
    "            display(drift)\n",
    "            display(drift.describe())\n",
    "\n",
    "    if display_ranks_tables:\n",
    "        static = ranksdf[['AGR', 'HPlane', 'LED', 'RBF', 'RTG', 'Wave']].sort_index(level=1, axis=1).transpose()\n",
    "        drift = ranksdf[['AGR_a', 'AGR_g' , 'HPlane_f', 'HPlane_m', 'HPlane_s', 'LED_a', 'LED_g', 'RBF_f', 'RBF_m', 'RBF_s', 'Wform_d5n']].sort_index(level=1, axis=1).transpose()\n",
    "        print(\"full\")\n",
    "        display(ranksdf.transpose())\n",
    "        display(ranksdf.transpose().describe())\n",
    "        if display_static:\n",
    "            print('static')\n",
    "            display(static)\n",
    "            display(static.describe())\n",
    "        if display_drift:\n",
    "            print('drift')\n",
    "            display(drift)\n",
    "            display(drift.describe())\n",
    "    \n",
    "    if using_autorank:\n",
    "        order = 'ascending' if ascending else 'descending'\n",
    "        print(order)\n",
    "        results = autorank(autorankdf.transpose(), alpha=0.05, verbose=True, order=order, force_mode='nonparametric')\n",
    "        display(results[0])\n",
    "        fig, maxi = plt.subplots()\n",
    "        plot_stats(results, allow_insignificant=True, ax=maxi)\n",
    "        if filename != None:\n",
    "            plt.savefig(f'{filename}.png')\n",
    "        create_report(results)\n"
   ]
  },
  {
   "cell_type": "markdown",
   "id": "7c172cd5-0add-49f6-a168-f1a096b9f89f",
   "metadata": {},
   "source": [
    "def create_report_mine(df, using_autorank=True, filename=None):\n",
    "    resultdf=pd.DataFrame()\n",
    "    for ds in df.Dataset.unique():\n",
    "        adf = df[(df.Dataset == ds) & (df.leafAlg == 'NBA')].copy()\n",
    "        # print(ds)\n",
    "        rdf = adf.groupby(by=['prune_method','pruning_threshold','interval'],as_index=False)[['time', 'evaluationTime', 'acc','avg_size']].agg(['mean','std'])\n",
    "        rdf['rank'] = rdf[('acc','mean')].rank(ascending=using_autorank, method='average')\n",
    "        rdf = rdf.reset_index()\n",
    "        rdf['new_id'] = rdf['prune_method'] + '-' + rdf['pruning_threshold'].astype(str) + '-' + rdf['interval'].astype(str)\n",
    "        rdf['Dataset'] = ds\n",
    "        rdf = rdf.set_index('new_id', drop=False)\n",
    "        # display(rdf)\n",
    "        drdf = rdf.pivot(index='new_id', columns='Dataset')['rank']\n",
    "        resultdf = pd.concat([resultdf,drdf], axis=1)\n",
    "        \n",
    "    static = resultdf[['AGR', 'HPlane', 'LED', 'RBF', 'RTG', 'Wave']]\n",
    "    drift = resultdf[['AGR_a', 'AGR_g' , 'HPlane_f', 'HPlane_m', 'HPlane_s', 'LED_a', 'LED_g', 'RBF_f', 'RBF_m', 'RBF_s', 'Wform_d5n']]\n",
    "    print(\"full\")\n",
    "    display(resultdf.transpose())\n",
    "    display(resultdf.transpose().describe())\n",
    "    print('static')\n",
    "    display(static.transpose())\n",
    "    display(static.transpose().describe())\n",
    "    print('drift')\n",
    "    display(drift.transpose())\n",
    "    display(drift.transpose().describe())\n",
    "    \n",
    "    ax = None\n",
    "    if using_autorank:\n",
    "        # display(resultdf)\n",
    "        results = autorank(resultdf.transpose(), alpha=0.05, verbose=True)\n",
    "        display(results[0])\n",
    "        fig, maxi = plt.subplots()\n",
    "        plot_stats(results, allow_insignificant=True, ax=maxi)\n",
    "        if filename != None:\n",
    "            fig.savefig(f'{filename}.png', dpi=300)\n",
    "        create_report(results)\n",
    "\n",
    "    return ax\n",
    "\n"
   ]
  },
  {
   "cell_type": "markdown",
   "id": "0527fca6-3a4b-45af-8fcd-f67c70e43c75",
   "metadata": {},
   "source": [
    "# Standard RAP-HT"
   ]
  },
  {
   "cell_type": "markdown",
   "id": "3a40cb8e-4d15-4afb-8dc3-28476e48bd61",
   "metadata": {
    "tags": []
   },
   "source": [
    "hdf = df[(~df.prune_method.isin(['HRAPTrgct', 'RAP-HTgct', 'RAPHTgct', 'EFDT', 'EFDTgct', 'HTgct', 'HAT','HT']))]\n",
    "print(hdf.prune_method.unique())\n"
   ]
  },
  {
   "cell_type": "markdown",
   "id": "89e35e50",
   "metadata": {},
   "source": [
    "create_report_mine(hdf, using_autorank=False)"
   ]
  },
  {
   "cell_type": "markdown",
   "id": "550408fe",
   "metadata": {},
   "source": [
    "create_report_mine(hdf, using_autorank=False)"
   ]
  },
  {
   "cell_type": "code",
   "execution_count": null,
   "id": "54b6491d-c6ac-4701-a08a-757e92c90729",
   "metadata": {},
   "outputs": [],
   "source": [
    "hdf = df[(~df.prune_method.isin(['HTtie', 'HTconf', 'HTct', 'HRAPTrgct', 'RAP-HTgct', 'RAPHTgct', 'HRAPTrgct', 'EFDT', 'EFDTgct', 'HTgct', 'HAT','HT']))]\n",
    "print(hdf.prune_method.unique())\n"
   ]
  },
  {
   "cell_type": "markdown",
   "id": "38614dc8",
   "metadata": {},
   "source": [
    "create_report_mine(hdf, using_autorank=True, filename='RAP-HT_parameter')\n",
    "\n",
    "\t"
   ]
  },
  {
   "cell_type": "markdown",
   "id": "522022f2",
   "metadata": {},
   "source": []
  },
  {
   "cell_type": "code",
   "execution_count": null,
   "id": "f12b3278",
   "metadata": {},
   "outputs": [],
   "source": []
  },
  {
   "cell_type": "code",
   "execution_count": null,
   "id": "63c17e1d",
   "metadata": {},
   "outputs": [],
   "source": []
  },
  {
   "cell_type": "code",
   "execution_count": null,
   "id": "8074029e",
   "metadata": {},
   "outputs": [],
   "source": []
  },
  {
   "cell_type": "code",
   "execution_count": null,
   "id": "b4b98390",
   "metadata": {},
   "outputs": [],
   "source": [
    "create_report_measure(hdf, 'acc', ascending=False, using_autorank=True, filename='RAP-HT-parameter-acc')"
   ]
  },
  {
   "cell_type": "code",
   "execution_count": null,
   "id": "3ee488c3",
   "metadata": {},
   "outputs": [],
   "source": [
    "create_report_measure(hdf, 'time', ascending=True, using_autorank=True)"
   ]
  },
  {
   "cell_type": "code",
   "execution_count": null,
   "id": "3dbfa06a",
   "metadata": {},
   "outputs": [],
   "source": [
    "create_report_measure(hdf, 'avg_size', ascending=True, using_autorank=True)"
   ]
  },
  {
   "cell_type": "code",
   "execution_count": null,
   "id": "d271bf51",
   "metadata": {},
   "outputs": [],
   "source": [
    "create_report_measure(hdf, 'max_size', ascending=True, using_autorank=True)"
   ]
  },
  {
   "cell_type": "code",
   "execution_count": null,
   "id": "8d1c1b15",
   "metadata": {},
   "outputs": [],
   "source": [
    "create_report_measure(hdf, 'total_pruned', ascending=False, using_autorank=True, filename='RAP-HT-parameter-pruned')"
   ]
  },
  {
   "cell_type": "markdown",
   "id": "5f3a5d79-5ed3-412d-90eb-f40dd2c7d218",
   "metadata": {},
   "source": [
    "# gct version"
   ]
  },
  {
   "cell_type": "code",
   "execution_count": null,
   "id": "4692446a-f1d3-4ae9-a306-fa5dce113859",
   "metadata": {},
   "outputs": [],
   "source": [
    "hdf = df[(~df.prune_method.isin(['RAP-HT', 'RAPHT', 'HRAPTr', 'EFDT', 'EFDTgct', 'HTgct', 'HAT','HT', 'HTtie', 'HTconf', 'HTct']))]\n",
    "print(hdf.prune_method.unique())"
   ]
  },
  {
   "cell_type": "code",
   "execution_count": null,
   "id": "064a0aed",
   "metadata": {},
   "outputs": [],
   "source": [
    "create_report_measure(hdf, using_autorank=True, measure='acc')"
   ]
  },
  {
   "cell_type": "markdown",
   "id": "d733eb99-42c1-46cd-96d8-af799b129fbb",
   "metadata": {},
   "source": [
    "# both RAP-HT and RAP-HT gct"
   ]
  },
  {
   "cell_type": "code",
   "execution_count": null,
   "id": "cbcd6871-485e-4a36-9b1a-d9b873f6669f",
   "metadata": {},
   "outputs": [],
   "source": [
    "hdf = df[(~df.prune_method.isin(['EFDT', 'EFDTgct', 'HTgct', 'HAT','HT', 'HTconf', 'HTct', 'HTtie']))]\n",
    "print(hdf.prune_method.unique())\n"
   ]
  },
  {
   "cell_type": "code",
   "execution_count": null,
   "id": "15f597e5",
   "metadata": {},
   "outputs": [],
   "source": [
    "create_report_measure(hdf, using_autorank=True)"
   ]
  },
  {
   "cell_type": "markdown",
   "id": "c22674e6-ab79-42b2-be73-5594e883515b",
   "metadata": {},
   "source": [
    "---\n",
    "# all methods\n",
    "### filter bad RAP-HT out"
   ]
  },
  {
   "cell_type": "code",
   "execution_count": 1,
   "id": "7ecae338",
   "metadata": {},
   "outputs": [
    {
     "ename": "NameError",
     "evalue": "name 'df' is not defined",
     "output_type": "error",
     "traceback": [
      "\u001b[0;31m---------------------------------------------------------------------------\u001b[0m",
      "\u001b[0;31mNameError\u001b[0m                                 Traceback (most recent call last)",
      "\u001b[1;32m/Users/gwcassales/Documents/pruning_mk2/ICDE-results_repo.ipynb Cell 40\u001b[0m in \u001b[0;36m1\n\u001b[0;32m----> <a href='vscode-notebook-cell:/Users/gwcassales/Documents/pruning_mk2/ICDE-results_repo.ipynb#X53sZmlsZQ%3D%3D?line=0'>1</a>\u001b[0m hdf \u001b[39m=\u001b[39m df[\u001b[39m~\u001b[39m(df\u001b[39m.\u001b[39mprune_method\u001b[39m.\u001b[39misin([\u001b[39m'\u001b[39m\u001b[39mHTtie\u001b[39m\u001b[39m'\u001b[39m, \u001b[39m'\u001b[39m\u001b[39mHTconf\u001b[39m\u001b[39m'\u001b[39m, \u001b[39m'\u001b[39m\u001b[39mHTct\u001b[39m\u001b[39m'\u001b[39m, \u001b[39m'\u001b[39m\u001b[39mRAP-HTgct\u001b[39m\u001b[39m'\u001b[39m, \u001b[39m'\u001b[39m\u001b[39mEFDTgct\u001b[39m\u001b[39m'\u001b[39m, \u001b[39m'\u001b[39m\u001b[39mHTgct\u001b[39m\u001b[39m'\u001b[39m, \u001b[39m'\u001b[39m\u001b[39mHTct\u001b[39m\u001b[39m'\u001b[39m]))]\n\u001b[1;32m      <a href='vscode-notebook-cell:/Users/gwcassales/Documents/pruning_mk2/ICDE-results_repo.ipynb#X53sZmlsZQ%3D%3D?line=1'>2</a>\u001b[0m hdf \u001b[39m=\u001b[39m hdf[(hdf\u001b[39m.\u001b[39minterval \u001b[39m==\u001b[39m \u001b[39m'\u001b[39m\u001b[39m0\u001b[39m\u001b[39m'\u001b[39m) \u001b[39m|\u001b[39m ((hdf\u001b[39m.\u001b[39mpruning_threshold \u001b[39m==\u001b[39m \u001b[39m5\u001b[39m) \u001b[39m&\u001b[39m (hdf\u001b[39m.\u001b[39minterval \u001b[39m==\u001b[39m \u001b[39m'\u001b[39m\u001b[39m2k\u001b[39m\u001b[39m'\u001b[39m))]\n\u001b[1;32m      <a href='vscode-notebook-cell:/Users/gwcassales/Documents/pruning_mk2/ICDE-results_repo.ipynb#X53sZmlsZQ%3D%3D?line=2'>3</a>\u001b[0m \u001b[39m# hdf = df[(~df.prune_method.isin(['EFDT', 'EFDTgct', 'HTgct', 'HAT','HT']))]\u001b[39;00m\n",
      "\u001b[0;31mNameError\u001b[0m: name 'df' is not defined"
     ]
    }
   ],
   "source": [
    "hdf = df[~(df.prune_method.isin(['HTtie', 'HTconf', 'HTct', 'RAP-HTgct', 'EFDTgct', 'HTgct', 'HTct']))]\n",
    "hdf = hdf[(hdf.interval == '0') | ((hdf.pruning_threshold == 5) & (hdf.interval == '2k'))]\n",
    "# hdf = df[(~df.prune_method.isin(['EFDT', 'EFDTgct', 'HTgct', 'HAT','HT']))]\n",
    "print(hdf.prune_method.unique())\n",
    "measure_tables = False\n",
    "drift_tables = False\n",
    "static_tables = False"
   ]
  },
  {
   "cell_type": "markdown",
   "id": "a4eef746",
   "metadata": {},
   "source": [
    "# create report by measures"
   ]
  },
  {
   "cell_type": "code",
   "execution_count": null,
   "id": "a0322779",
   "metadata": {},
   "outputs": [],
   "source": [
    "create_report_measure(hdf, 'acc', using_autorank=True, ascending=False, display_measure_tables=measure_tables, display_drift=drift_tables, display_static=static_tables, filename='RAP-HT_literature_acc')"
   ]
  },
  {
   "cell_type": "code",
   "execution_count": null,
   "id": "0440cb30",
   "metadata": {},
   "outputs": [],
   "source": [
    "create_report_measure(hdf, 'time', using_autorank=True, ascending=True, display_measure_tables=measure_tables, display_drift=drift_tables, display_static=static_tables, filename='RAP-HT_literature_time')"
   ]
  },
  {
   "cell_type": "code",
   "execution_count": null,
   "id": "1f9859d9",
   "metadata": {},
   "outputs": [],
   "source": [
    "create_report_measure(hdf, 'avg_size', using_autorank=True, ascending=True, display_measure_tables=True, display_drift=drift_tables, display_static=static_tables, filename='RAP-HT_literature_avg_size')"
   ]
  },
  {
   "cell_type": "code",
   "execution_count": null,
   "id": "e1c18c9c",
   "metadata": {},
   "outputs": [],
   "source": [
    "create_report_measure(hdf, 'max_size', using_autorank=True, ascending=True, display_measure_tables=measure_tables, display_drift=drift_tables, display_static=static_tables, filename='RAP-HT_literature_max_size')"
   ]
  },
  {
   "cell_type": "code",
   "execution_count": null,
   "id": "21363564",
   "metadata": {},
   "outputs": [],
   "source": []
  },
  {
   "cell_type": "code",
   "execution_count": null,
   "id": "132acb4b",
   "metadata": {},
   "outputs": [],
   "source": []
  },
  {
   "cell_type": "code",
   "execution_count": null,
   "id": "f66f85da",
   "metadata": {},
   "outputs": [],
   "source": []
  },
  {
   "cell_type": "code",
   "execution_count": null,
   "id": "de4a8584",
   "metadata": {},
   "outputs": [],
   "source": []
  },
  {
   "cell_type": "markdown",
   "id": "362ac8bb",
   "metadata": {},
   "source": [
    "# Tables for paper\n"
   ]
  },
  {
   "cell_type": "code",
   "execution_count": null,
   "id": "8f34e222",
   "metadata": {},
   "outputs": [],
   "source": [
    "def custom_function(row, ds, two_decimals=True):\n",
    "    if two_decimals:\n",
    "        return f\"{row[('mean', ds)]:0.2f} \\u00B1 {row[('std', ds)]:0.2f}\"\n",
    "    else:\n",
    "        return f\"{row[('mean', ds)]:0.1f} \\u00B1 {row[('std', ds)]:0.1f}\""
   ]
  },
  {
   "cell_type": "code",
   "execution_count": null,
   "id": "e86a21ac",
   "metadata": {},
   "outputs": [],
   "source": [
    "def create_report_paper(df, measure='acc', using_autorank=True, two_decimals=True):\n",
    "    drift_data = ['AGR_a', 'AGR_g', 'HPlane_f', 'HPlane_m', 'HPlane_s', 'LED_a', 'LED_g', 'RBF_f', 'RBF_m', 'RBF_s', 'Wform_d5n']\n",
    "    non_drift_data = ['AGR', 'HPlane', 'LED', 'RBF', 'RTG', 'Wave']\n",
    "    datasets = drift_data + non_drift_data\n",
    "    resultdf=pd.DataFrame()\n",
    "    for ds in df.Dataset.unique():\n",
    "        adf = df[(df.Dataset == ds) & (df.leafAlg == 'NBA')].copy()\n",
    "        # print(ds)\n",
    "        rdf = adf.groupby(by=['prune_method','pruning_threshold','interval'],as_index=False)[['time', 'evaluationTime', 'acc','avg_size','max_size', 'total_pruned']].agg(['mean','std'])\n",
    "        # rdf['rank'] = rdf[('acc','mean')].rank(ascending=using_autorank, method='average')\n",
    "        rdf = rdf.reset_index()\n",
    "        rdf['new_id'] = rdf['prune_method'] + '-' + rdf['pruning_threshold'].astype(str) + '-' + rdf['interval'].astype(str)\n",
    "        rdf['Dataset'] = ds\n",
    "        rdf = rdf.set_index('new_id', drop=False)\n",
    "        # display(rdf)\n",
    "        drdf = rdf.pivot(index='new_id', columns='Dataset')[measure]\n",
    "        resultdf = pd.concat([resultdf,drdf], axis=1)\n",
    "        \n",
    "    # static = resultdf[['AGR', 'HPlane', 'LED', 'RBF', 'RTG', 'Wave']]\n",
    "    # drift = resultdf[['AGR_a', 'AGR_g' , 'HPlane_f', 'HPlane_m', 'HPlane_s', 'LED_a', 'LED_g', 'RBF_f', 'RBF_m', 'RBF_s', 'Wform_d5n']]\n",
    "    print(\"full\")\n",
    "    display(resultdf)\n",
    "    # display(resultdf)\n",
    "    # print('static')\n",
    "    # display(static.transpose())\n",
    "    # display(static.transpose().describe())\n",
    "    # print('drift')\n",
    "    # display(drift.transpose())\n",
    "    # display(drift.transpose().describe())\n",
    "    \n",
    "    # if using_autorank:\n",
    "    #     # display(resultdf)\n",
    "    #     results = autorank(resultdf.transpose(), alpha=0.05, verbose=True)\n",
    "    #     display(results[0])\n",
    "    #     plot_stats(results, allow_insignificant=True)\n",
    "    #     create_report(results)\n",
    "    mydf = resultdf.copy()\n",
    "    \n",
    "    for ds in datasets:\n",
    "        mydf[('table',ds)] = mydf.apply(lambda x : custom_function(x, ds, two_decimals=two_decimals), axis=1)\n",
    "    display(mydf)\n",
    "    latexdf = mydf.drop(columns=['mean', 'std']).transpose().droplevel(0)\n",
    "    print(latexdf.columns)\n",
    "    print(latexdf.to_latex())"
   ]
  },
  {
   "cell_type": "code",
   "execution_count": null,
   "id": "3bf9836e",
   "metadata": {},
   "outputs": [],
   "source": [
    "hdf = df[(~df.prune_method.isin(['HTtie', 'HTconf', 'HTct', 'HRAPTrgct', 'EFDT', 'EFDTgct', 'HTgct', 'HAT','HT']))]\n",
    "print(hdf.prune_method.unique())\n"
   ]
  },
  {
   "cell_type": "code",
   "execution_count": null,
   "id": "f461b419",
   "metadata": {},
   "outputs": [],
   "source": [
    "create_report_paper(hdf,using_autorank=False)\n",
    "# mdf"
   ]
  },
  {
   "cell_type": "code",
   "execution_count": null,
   "id": "29c3c338",
   "metadata": {},
   "outputs": [],
   "source": [
    "hdf = df[(~df.prune_method.isin(['HTtie', 'HTconf', 'HTct', 'HRAPTrgct', 'EFDTgct', 'HTgct']))]\n",
    "hdf = hdf[(hdf.interval == '0') | ((hdf.pruning_threshold == 5) & (hdf.interval == '2k'))]\n",
    "print(hdf.prune_method.unique())\n"
   ]
  },
  {
   "cell_type": "code",
   "execution_count": null,
   "id": "a90fbb43",
   "metadata": {},
   "outputs": [],
   "source": [
    "create_report_paper(hdf,using_autorank=False)\n",
    "# mdf"
   ]
  },
  {
   "cell_type": "code",
   "execution_count": null,
   "id": "ce06c014",
   "metadata": {},
   "outputs": [],
   "source": [
    "create_report_paper(hdf,using_autorank=False,measure='time')\n",
    "# mdf"
   ]
  },
  {
   "cell_type": "code",
   "execution_count": null,
   "id": "1036a3e0",
   "metadata": {},
   "outputs": [],
   "source": [
    "create_report_paper(hdf,using_autorank=False,measure='avg_size', two_decimals=False)\n",
    "# mdf"
   ]
  },
  {
   "cell_type": "code",
   "execution_count": null,
   "id": "dacc63d9",
   "metadata": {},
   "outputs": [],
   "source": [
    "create_report_paper(hdf,using_autorank=False,measure='max_size',two_decimals=False)\n",
    "# mdf"
   ]
  },
  {
   "cell_type": "code",
   "execution_count": null,
   "id": "736eced5",
   "metadata": {},
   "outputs": [],
   "source": []
  },
  {
   "cell_type": "code",
   "execution_count": null,
   "id": "809703cb",
   "metadata": {},
   "outputs": [],
   "source": []
  },
  {
   "cell_type": "code",
   "execution_count": null,
   "id": "bcfd7364",
   "metadata": {},
   "outputs": [],
   "source": []
  },
  {
   "cell_type": "code",
   "execution_count": null,
   "id": "ded1ecc7",
   "metadata": {},
   "outputs": [],
   "source": [
    "hdf = df[(~df.prune_method.isin(['HTtie', 'HTconf', 'HTct', 'HRAPTrgct', 'EFDT', 'EFDTgct', 'HTgct', 'HAT','HT']))]\n",
    "print(hdf.prune_method.unique())\n"
   ]
  },
  {
   "cell_type": "code",
   "execution_count": null,
   "id": "d92361c7",
   "metadata": {},
   "outputs": [],
   "source": [
    "create_report_paper(hdf,using_autorank=False,measure='total_pruned',two_decimals=False)"
   ]
  },
  {
   "cell_type": "code",
   "execution_count": null,
   "id": "e48aa2d8",
   "metadata": {},
   "outputs": [],
   "source": [
    "create_report_paper(hdf,using_autorank=False,measure='avg_size',two_decimals=False)"
   ]
  },
  {
   "cell_type": "code",
   "execution_count": null,
   "id": "9b081d54",
   "metadata": {},
   "outputs": [],
   "source": []
  },
  {
   "cell_type": "code",
   "execution_count": null,
   "id": "b6f18981",
   "metadata": {},
   "outputs": [],
   "source": []
  },
  {
   "cell_type": "code",
   "execution_count": null,
   "id": "83b33616",
   "metadata": {},
   "outputs": [],
   "source": []
  },
  {
   "cell_type": "code",
   "execution_count": null,
   "id": "ac17453e",
   "metadata": {},
   "outputs": [],
   "source": [
    "import random"
   ]
  },
  {
   "cell_type": "code",
   "execution_count": null,
   "id": "eddd4f79",
   "metadata": {},
   "outputs": [],
   "source": [
    "\n",
    "def get_list_and_count(seed, size):\n",
    "\tret = []\n",
    "\trandom.seed(seed)\n",
    "\tfor i in range(size):\n",
    "\t\tif random.uniform(0,1) <= 0.1:\n",
    "\t\t\tret.append(i)\n",
    "\treturn ret"
   ]
  },
  {
   "cell_type": "code",
   "execution_count": null,
   "id": "d0925354",
   "metadata": {},
   "outputs": [],
   "source": [
    "lst1 = get_list_and_count(1,10000)\n",
    "print(lst1,'\\n',len(lst1))"
   ]
  },
  {
   "cell_type": "code",
   "execution_count": null,
   "id": "0baff5a0",
   "metadata": {},
   "outputs": [],
   "source": [
    "lst2 = get_list_and_count(2,10000)\n",
    "print(lst2,'\\n',len(lst2))"
   ]
  },
  {
   "cell_type": "code",
   "execution_count": null,
   "id": "5f732a65",
   "metadata": {},
   "outputs": [],
   "source": [
    "len([x for x in lst1 if x in lst2 ])"
   ]
  },
  {
   "cell_type": "code",
   "execution_count": null,
   "id": "f55ba2f6",
   "metadata": {},
   "outputs": [],
   "source": []
  }
 ],
 "metadata": {
  "kernelspec": {
   "display_name": "Python 3 (ipykernel)",
   "language": "python",
   "name": "python3"
  },
  "language_info": {
   "codemirror_mode": {
    "name": "ipython",
    "version": 3
   },
   "file_extension": ".py",
   "mimetype": "text/x-python",
   "name": "python",
   "nbconvert_exporter": "python",
   "pygments_lexer": "ipython3",
   "version": "3.9.12"
  }
 },
 "nbformat": 4,
 "nbformat_minor": 5
}
